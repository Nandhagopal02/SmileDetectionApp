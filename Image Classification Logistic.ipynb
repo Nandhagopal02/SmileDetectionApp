{
 "cells": [
  {
   "cell_type": "code",
   "execution_count": 1,
   "id": "ec27077e-d2f3-419f-aa48-64215d732e22",
   "metadata": {},
   "outputs": [],
   "source": [
    "import pandas as pd\n",
    "import numpy as np"
   ]
  },
  {
   "cell_type": "code",
   "execution_count": 2,
   "id": "c15dbf06-dd21-4a17-884f-2374ec06475d",
   "metadata": {},
   "outputs": [],
   "source": [
    "import glob "
   ]
  },
  {
   "cell_type": "code",
   "execution_count": 3,
   "id": "3735084c-3e3e-4bfc-93c1-58bba8ceee97",
   "metadata": {},
   "outputs": [],
   "source": [
    "nosmile  = glob.glob(r\"C:\\Users\\acer\\Downloads\\Image\\non_smile\\*.jpg\")\n",
    "smile = glob.glob(r\"C:\\Users\\acer\\Downloads\\Image\\smile\\*.jpg\")\n",
    "test = glob.glob(r\"C:\\Users\\acer\\Downloads\\Image\\test\\*.jpg\")"
   ]
  },
  {
   "cell_type": "code",
   "execution_count": 4,
   "id": "0f040919-e86b-4545-9f97-40742a20afea",
   "metadata": {},
   "outputs": [
    {
     "data": {
      "text/plain": [
       "(603, 600, 12030)"
      ]
     },
     "execution_count": 4,
     "metadata": {},
     "output_type": "execute_result"
    }
   ],
   "source": [
    "len(nosmile),len(smile),len(test)"
   ]
  },
  {
   "cell_type": "code",
   "execution_count": 5,
   "id": "c6c9fa62-52d2-468a-b8ee-5ea6aa073ff5",
   "metadata": {},
   "outputs": [],
   "source": [
    "from PIL import Image"
   ]
  },
  {
   "cell_type": "code",
   "execution_count": 6,
   "id": "924d9080-83f2-4ee1-9fab-9d27882a7887",
   "metadata": {},
   "outputs": [],
   "source": [
    "img23 = Image.open(nosmile[34])"
   ]
  },
  {
   "cell_type": "code",
   "execution_count": 7,
   "id": "0a231246-b108-4b4f-a544-e1944f308aae",
   "metadata": {},
   "outputs": [
    {
     "data": {
      "image/jpeg": "[encoded data removed]",
      "image/png": "[encoded data removed]",
      "text/plain": [
       "<PIL.JpegImagePlugin.JpegImageFile image mode=RGB size=64x64>"
      ]
     },
     "execution_count": 7,
     "metadata": {},
     "output_type": "execute_result"
    }
   ],
   "source": [
    "img23 = Image.open(smile[1])\n",
    "img23"
   ]
  },
  {
   "cell_type": "code",
   "execution_count": 8,
   "id": "efca2a7a-9f16-45af-b933-b22436ced0e0",
   "metadata": {},
   "outputs": [
    {
     "data": {
      "text/plain": [
       "(64, 64)"
      ]
     },
     "execution_count": 8,
     "metadata": {},
     "output_type": "execute_result"
    }
   ],
   "source": [
    "img23.size"
   ]
  },
  {
   "cell_type": "code",
   "execution_count": 9,
   "id": "b31d617d-38a5-4562-8f02-db36b05f4773",
   "metadata": {},
   "outputs": [],
   "source": [
    "img23 = img23.convert(\"L\")"
   ]
  },
  {
   "cell_type": "code",
   "execution_count": 10,
   "id": "5d8c33d8-9d0f-4591-b40e-977a0ba6695d",
   "metadata": {},
   "outputs": [
    {
     "data": {
      "text/plain": [
       "array([[ 94, 100, 103, ..., 190, 175, 162],\n",
       "       [ 95,  99, 102, ..., 192, 178, 165],\n",
       "       [ 93,  97, 100, ..., 196, 182, 169],\n",
       "       ...,\n",
       "       [145, 151, 154, ..., 153, 151, 148],\n",
       "       [144, 153, 155, ..., 156, 152, 146],\n",
       "       [143, 154, 157, ..., 158, 153, 146]], dtype=uint8)"
      ]
     },
     "execution_count": 10,
     "metadata": {},
     "output_type": "execute_result"
    }
   ],
   "source": [
    "pixarr = np.array(img23)\n",
    "pixarr"
   ]
  },
  {
   "cell_type": "code",
   "execution_count": 11,
   "id": "f1296855-37c6-4c7e-b0df-a8ee8c10d19f",
   "metadata": {},
   "outputs": [],
   "source": [
    "import matplotlib.pyplot as plt"
   ]
  },
  {
   "cell_type": "code",
   "execution_count": 12,
   "id": "caf6d910-1740-4b3f-9843-b7099fb39c90",
   "metadata": {},
   "outputs": [
    {
     "data": {
      "image/png": "[encoded data removed]",
      "text/plain": [
       "<Figure size 640x480 with 1 Axes>"
      ]
     },
     "metadata": {},
     "output_type": "display_data"
    }
   ],
   "source": [
    "plt.imshow(pixarr,cmap=\"gray\")\n",
    "plt.axis(\"off\")  # Hide axes\n",
    "plt.show()"
   ]
  },
  {
   "cell_type": "code",
   "execution_count": 13,
   "id": "95884a3c-f2a1-4f1d-8b2f-b836bf7840a4",
   "metadata": {},
   "outputs": [],
   "source": [
    "data = []\n",
    "label = []"
   ]
  },
  {
   "cell_type": "code",
   "execution_count": 14,
   "id": "57da9af2-5e8c-4eac-b07f-4af44dfdc22f",
   "metadata": {},
   "outputs": [],
   "source": [
    "for image in nosmile:\n",
    "    img = Image.open(image)\n",
    "    img = img.convert(\"L\")\n",
    "    img = img.resize((64, 64))\n",
    "    img = np.array(img).flatten()\n",
    "    data.append(img)\n",
    "    label.append(0)"
   ]
  },
  {
   "cell_type": "code",
   "execution_count": 15,
   "id": "e7713fbc-39b8-4974-92bd-d9fbeeedeeaf",
   "metadata": {},
   "outputs": [],
   "source": [
    "for image in smile:\n",
    "    img = Image.open(image)\n",
    "    img = img.convert(\"L\")\n",
    "    img = img.resize((64, 64))\n",
    "    img = np.array(img).flatten()\n",
    "    data.append(img)\n",
    "    label.append(1)"
   ]
  },
  {
   "cell_type": "code",
   "execution_count": 16,
   "id": "2bc3a8f9-3789-40f4-9aa1-9acfa3e6fc37",
   "metadata": {},
   "outputs": [
    {
     "data": {
      "text/plain": [
       "(1203, 1203)"
      ]
     },
     "execution_count": 16,
     "metadata": {},
     "output_type": "execute_result"
    }
   ],
   "source": [
    "len(data),len(label)\n"
   ]
  },
  {
   "cell_type": "code",
   "execution_count": 17,
   "id": "65f33ceb-d850-4922-8520-d2073acb5065",
   "metadata": {},
   "outputs": [
    {
     "data": {
      "text/plain": [
       "(1203, 4096)"
      ]
     },
     "execution_count": 17,
     "metadata": {},
     "output_type": "execute_result"
    }
   ],
   "source": [
    "x = np.array(data)\n",
    "x.shape"
   ]
  },
  {
   "cell_type": "code",
   "execution_count": 18,
   "id": "c2cc0636-0abe-4966-9d52-463d3072a08a",
   "metadata": {},
   "outputs": [
    {
     "data": {
      "text/plain": [
       "(1203,)"
      ]
     },
     "execution_count": 18,
     "metadata": {},
     "output_type": "execute_result"
    }
   ],
   "source": [
    "y = np.array(label)\n",
    "y.shape"
   ]
  },
  {
   "cell_type": "code",
   "execution_count": 19,
   "id": "2f359166-9051-44bd-8c3c-088cf17f27c9",
   "metadata": {},
   "outputs": [],
   "source": [
    "from sklearn.model_selection import train_test_split\n",
    "xtrain,xtest,ytrain,ytest = train_test_split(x,y,test_size = 0.3,random_state=0,shuffle=True)"
   ]
  },
  {
   "cell_type": "code",
   "execution_count": 20,
   "id": "20852892-9674-42ea-98b0-b67c526a92f3",
   "metadata": {},
   "outputs": [
    {
     "data": {
      "text/plain": [
       "((842, 4096), (361, 4096), (842,), (361,))"
      ]
     },
     "execution_count": 20,
     "metadata": {},
     "output_type": "execute_result"
    }
   ],
   "source": [
    "xtrain.shape , xtest.shape,ytrain.shape,ytest.shape"
   ]
  },
  {
   "cell_type": "code",
   "execution_count": 21,
   "id": "6d5c4824-87b0-4595-9737-e7e0d25a1d41",
   "metadata": {
    "scrolled": true
   },
   "outputs": [
    {
     "data": {
      "text/plain": [
       "array([ 70,  71,  72, ..., 153, 150, 147], dtype=uint8)"
      ]
     },
     "execution_count": 21,
     "metadata": {},
     "output_type": "execute_result"
    }
   ],
   "source": [
    "xtrain[56]"
   ]
  },
  {
   "cell_type": "code",
   "execution_count": null,
   "id": "d08224d5-1b8e-49a7-8cbe-0082acb5f7ee",
   "metadata": {},
   "outputs": [],
   "source": [
    "\n"
   ]
  },
  {
   "cell_type": "code",
   "execution_count": 22,
   "id": "35bde793-a700-437d-a785-e1b9b5ed968e",
   "metadata": {},
   "outputs": [],
   "source": [
    "from sklearn.preprocessing import StandardScaler\n",
    "scaler = StandardScaler()"
   ]
  },
  {
   "cell_type": "code",
   "execution_count": 23,
   "id": "e6428f68-cb8f-4fdb-9ae2-01b99202c2b3",
   "metadata": {},
   "outputs": [],
   "source": [
    "\n",
    "scaler = StandardScaler()\n",
    "scaler.fit(xtrain)  \n",
    "xtrainscale = scaler.transform(xtrain)  \n",
    "xtestscale = scaler.transform(xtest) \n"
   ]
  },
  {
   "cell_type": "code",
   "execution_count": 24,
   "id": "bb7bb721-694b-44df-bf6e-9fba298278d0",
   "metadata": {},
   "outputs": [],
   "source": [
    "from sklearn.linear_model import LogisticRegression"
   ]
  },
  {
   "cell_type": "code",
   "execution_count": 25,
   "id": "5e981e36-d33e-474a-8182-386e53e6fdea",
   "metadata": {},
   "outputs": [],
   "source": [
    "model = LogisticRegression()"
   ]
  },
  {
   "cell_type": "code",
   "execution_count": 26,
   "id": "53c4fe4d-2d01-4756-83d4-88686340e865",
   "metadata": {},
   "outputs": [
    {
     "data": {
      "text/html": [
       "<style>#sk-container-id-1 {\n",
       "  /* Definition of color scheme common for light and dark mode */\n",
       "  --sklearn-color-text: #000;\n",
       "  --sklearn-color-text-muted: #666;\n",
       "  --sklearn-color-line: gray;\n",
       "  /* Definition of color scheme for unfitted estimators */\n",
       "  --sklearn-color-unfitted-level-0: #fff5e6;\n",
       "  --sklearn-color-unfitted-level-1: #f6e4d2;\n",
       "  --sklearn-color-unfitted-level-2: #ffe0b3;\n",
       "  --sklearn-color-unfitted-level-3: chocolate;\n",
       "  /* Definition of color scheme for fitted estimators */\n",
       "  --sklearn-color-fitted-level-0: #f0f8ff;\n",
       "  --sklearn-color-fitted-level-1: #d4ebff;\n",
       "  --sklearn-color-fitted-level-2: #b3dbfd;\n",
       "  --sklearn-color-fitted-level-3: cornflowerblue;\n",
       "\n",
       "  /* Specific color for light theme */\n",
       "  --sklearn-color-text-on-default-background: var(--sg-text-color, var(--theme-code-foreground, var(--jp-content-font-color1, black)));\n",
       "  --sklearn-color-background: var(--sg-background-color, var(--theme-background, var(--jp-layout-color0, white)));\n",
       "  --sklearn-color-border-box: var(--sg-text-color, var(--theme-code-foreground, var(--jp-content-font-color1, black)));\n",
       "  --sklearn-color-icon: #696969;\n",
       "\n",
       "  @media (prefers-color-scheme: dark) {\n",
       "    /* Redefinition of color scheme for dark theme */\n",
       "    --sklearn-color-text-on-default-background: var(--sg-text-color, var(--theme-code-foreground, var(--jp-content-font-color1, white)));\n",
       "    --sklearn-color-background: var(--sg-background-color, var(--theme-background, var(--jp-layout-color0, #111)));\n",
       "    --sklearn-color-border-box: var(--sg-text-color, var(--theme-code-foreground, var(--jp-content-font-color1, white)));\n",
       "    --sklearn-color-icon: #878787;\n",
       "  }\n",
       "}\n",
       "\n",
       "#sk-container-id-1 {\n",
       "  color: var(--sklearn-color-text);\n",
       "}\n",
       "\n",
       "#sk-container-id-1 pre {\n",
       "  padding: 0;\n",
       "}\n",
       "\n",
       "#sk-container-id-1 input.sk-hidden--visually {\n",
       "  border: 0;\n",
       "  clip: rect(1px 1px 1px 1px);\n",
       "  clip: rect(1px, 1px, 1px, 1px);\n",
       "  height: 1px;\n",
       "  margin: -1px;\n",
       "  overflow: hidden;\n",
       "  padding: 0;\n",
       "  position: absolute;\n",
       "  width: 1px;\n",
       "}\n",
       "\n",
       "#sk-container-id-1 div.sk-dashed-wrapped {\n",
       "  border: 1px dashed var(--sklearn-color-line);\n",
       "  margin: 0 0.4em 0.5em 0.4em;\n",
       "  box-sizing: border-box;\n",
       "  padding-bottom: 0.4em;\n",
       "  background-color: var(--sklearn-color-background);\n",
       "}\n",
       "\n",
       "#sk-container-id-1 div.sk-container {\n",
       "  /* jupyter's `normalize.less` sets `[hidden] { display: none; }`\n",
       "     but bootstrap.min.css set `[hidden] { display: none !important; }`\n",
       "     so we also need the `!important` here to be able to override the\n",
       "     default hidden behavior on the sphinx rendered scikit-learn.org.\n",
       "     See: https://github.com/scikit-learn/scikit-learn/issues/21755 */\n",
       "  display: inline-block !important;\n",
       "  position: relative;\n",
       "}\n",
       "\n",
       "#sk-container-id-1 div.sk-text-repr-fallback {\n",
       "  display: none;\n",
       "}\n",
       "\n",
       "div.sk-parallel-item,\n",
       "div.sk-serial,\n",
       "div.sk-item {\n",
       "  /* draw centered vertical line to link estimators */\n",
       "  background-image: linear-gradient(var(--sklearn-color-text-on-default-background), var(--sklearn-color-text-on-default-background));\n",
       "  background-size: 2px 100%;\n",
       "  background-repeat: no-repeat;\n",
       "  background-position: center center;\n",
       "}\n",
       "\n",
       "/* Parallel-specific style estimator block */\n",
       "\n",
       "#sk-container-id-1 div.sk-parallel-item::after {\n",
       "  content: \"\";\n",
       "  width: 100%;\n",
       "  border-bottom: 2px solid var(--sklearn-color-text-on-default-background);\n",
       "  flex-grow: 1;\n",
       "}\n",
       "\n",
       "#sk-container-id-1 div.sk-parallel {\n",
       "  display: flex;\n",
       "  align-items: stretch;\n",
       "  justify-content: center;\n",
       "  background-color: var(--sklearn-color-background);\n",
       "  position: relative;\n",
       "}\n",
       "\n",
       "#sk-container-id-1 div.sk-parallel-item {\n",
       "  display: flex;\n",
       "  flex-direction: column;\n",
       "}\n",
       "\n",
       "#sk-container-id-1 div.sk-parallel-item:first-child::after {\n",
       "  align-self: flex-end;\n",
       "  width: 50%;\n",
       "}\n",
       "\n",
       "#sk-container-id-1 div.sk-parallel-item:last-child::after {\n",
       "  align-self: flex-start;\n",
       "  width: 50%;\n",
       "}\n",
       "\n",
       "#sk-container-id-1 div.sk-parallel-item:only-child::after {\n",
       "  width: 0;\n",
       "}\n",
       "\n",
       "/* Serial-specific style estimator block */\n",
       "\n",
       "#sk-container-id-1 div.sk-serial {\n",
       "  display: flex;\n",
       "  flex-direction: column;\n",
       "  align-items: center;\n",
       "  background-color: var(--sklearn-color-background);\n",
       "  padding-right: 1em;\n",
       "  padding-left: 1em;\n",
       "}\n",
       "\n",
       "\n",
       "/* Toggleable style: style used for estimator/Pipeline/ColumnTransformer box that is\n",
       "clickable and can be expanded/collapsed.\n",
       "- Pipeline and ColumnTransformer use this feature and define the default style\n",
       "- Estimators will overwrite some part of the style using the `sk-estimator` class\n",
       "*/\n",
       "\n",
       "/* Pipeline and ColumnTransformer style (default) */\n",
       "\n",
       "#sk-container-id-1 div.sk-toggleable {\n",
       "  /* Default theme specific background. It is overwritten whether we have a\n",
       "  specific estimator or a Pipeline/ColumnTransformer */\n",
       "  background-color: var(--sklearn-color-background);\n",
       "}\n",
       "\n",
       "/* Toggleable label */\n",
       "#sk-container-id-1 label.sk-toggleable__label {\n",
       "  cursor: pointer;\n",
       "  display: flex;\n",
       "  width: 100%;\n",
       "  margin-bottom: 0;\n",
       "  padding: 0.5em;\n",
       "  box-sizing: border-box;\n",
       "  text-align: center;\n",
       "  align-items: start;\n",
       "  justify-content: space-between;\n",
       "  gap: 0.5em;\n",
       "}\n",
       "\n",
       "#sk-container-id-1 label.sk-toggleable__label .caption {\n",
       "  font-size: 0.6rem;\n",
       "  font-weight: lighter;\n",
       "  color: var(--sklearn-color-text-muted);\n",
       "}\n",
       "\n",
       "#sk-container-id-1 label.sk-toggleable__label-arrow:before {\n",
       "  /* Arrow on the left of the label */\n",
       "  content: \"▸\";\n",
       "  float: left;\n",
       "  margin-right: 0.25em;\n",
       "  color: var(--sklearn-color-icon);\n",
       "}\n",
       "\n",
       "#sk-container-id-1 label.sk-toggleable__label-arrow:hover:before {\n",
       "  color: var(--sklearn-color-text);\n",
       "}\n",
       "\n",
       "/* Toggleable content - dropdown */\n",
       "\n",
       "#sk-container-id-1 div.sk-toggleable__content {\n",
       "  max-height: 0;\n",
       "  max-width: 0;\n",
       "  overflow: hidden;\n",
       "  text-align: left;\n",
       "  /* unfitted */\n",
       "  background-color: var(--sklearn-color-unfitted-level-0);\n",
       "}\n",
       "\n",
       "#sk-container-id-1 div.sk-toggleable__content.fitted {\n",
       "  /* fitted */\n",
       "  background-color: var(--sklearn-color-fitted-level-0);\n",
       "}\n",
       "\n",
       "#sk-container-id-1 div.sk-toggleable__content pre {\n",
       "  margin: 0.2em;\n",
       "  border-radius: 0.25em;\n",
       "  color: var(--sklearn-color-text);\n",
       "  /* unfitted */\n",
       "  background-color: var(--sklearn-color-unfitted-level-0);\n",
       "}\n",
       "\n",
       "#sk-container-id-1 div.sk-toggleable__content.fitted pre {\n",
       "  /* unfitted */\n",
       "  background-color: var(--sklearn-color-fitted-level-0);\n",
       "}\n",
       "\n",
       "#sk-container-id-1 input.sk-toggleable__control:checked~div.sk-toggleable__content {\n",
       "  /* Expand drop-down */\n",
       "  max-height: 200px;\n",
       "  max-width: 100%;\n",
       "  overflow: auto;\n",
       "}\n",
       "\n",
       "#sk-container-id-1 input.sk-toggleable__control:checked~label.sk-toggleable__label-arrow:before {\n",
       "  content: \"▾\";\n",
       "}\n",
       "\n",
       "/* Pipeline/ColumnTransformer-specific style */\n",
       "\n",
       "#sk-container-id-1 div.sk-label input.sk-toggleable__control:checked~label.sk-toggleable__label {\n",
       "  color: var(--sklearn-color-text);\n",
       "  background-color: var(--sklearn-color-unfitted-level-2);\n",
       "}\n",
       "\n",
       "#sk-container-id-1 div.sk-label.fitted input.sk-toggleable__control:checked~label.sk-toggleable__label {\n",
       "  background-color: var(--sklearn-color-fitted-level-2);\n",
       "}\n",
       "\n",
       "/* Estimator-specific style */\n",
       "\n",
       "/* Colorize estimator box */\n",
       "#sk-container-id-1 div.sk-estimator input.sk-toggleable__control:checked~label.sk-toggleable__label {\n",
       "  /* unfitted */\n",
       "  background-color: var(--sklearn-color-unfitted-level-2);\n",
       "}\n",
       "\n",
       "#sk-container-id-1 div.sk-estimator.fitted input.sk-toggleable__control:checked~label.sk-toggleable__label {\n",
       "  /* fitted */\n",
       "  background-color: var(--sklearn-color-fitted-level-2);\n",
       "}\n",
       "\n",
       "#sk-container-id-1 div.sk-label label.sk-toggleable__label,\n",
       "#sk-container-id-1 div.sk-label label {\n",
       "  /* The background is the default theme color */\n",
       "  color: var(--sklearn-color-text-on-default-background);\n",
       "}\n",
       "\n",
       "/* On hover, darken the color of the background */\n",
       "#sk-container-id-1 div.sk-label:hover label.sk-toggleable__label {\n",
       "  color: var(--sklearn-color-text);\n",
       "  background-color: var(--sklearn-color-unfitted-level-2);\n",
       "}\n",
       "\n",
       "/* Label box, darken color on hover, fitted */\n",
       "#sk-container-id-1 div.sk-label.fitted:hover label.sk-toggleable__label.fitted {\n",
       "  color: var(--sklearn-color-text);\n",
       "  background-color: var(--sklearn-color-fitted-level-2);\n",
       "}\n",
       "\n",
       "/* Estimator label */\n",
       "\n",
       "#sk-container-id-1 div.sk-label label {\n",
       "  font-family: monospace;\n",
       "  font-weight: bold;\n",
       "  display: inline-block;\n",
       "  line-height: 1.2em;\n",
       "}\n",
       "\n",
       "#sk-container-id-1 div.sk-label-container {\n",
       "  text-align: center;\n",
       "}\n",
       "\n",
       "/* Estimator-specific */\n",
       "#sk-container-id-1 div.sk-estimator {\n",
       "  font-family: monospace;\n",
       "  border: 1px dotted var(--sklearn-color-border-box);\n",
       "  border-radius: 0.25em;\n",
       "  box-sizing: border-box;\n",
       "  margin-bottom: 0.5em;\n",
       "  /* unfitted */\n",
       "  background-color: var(--sklearn-color-unfitted-level-0);\n",
       "}\n",
       "\n",
       "#sk-container-id-1 div.sk-estimator.fitted {\n",
       "  /* fitted */\n",
       "  background-color: var(--sklearn-color-fitted-level-0);\n",
       "}\n",
       "\n",
       "/* on hover */\n",
       "#sk-container-id-1 div.sk-estimator:hover {\n",
       "  /* unfitted */\n",
       "  background-color: var(--sklearn-color-unfitted-level-2);\n",
       "}\n",
       "\n",
       "#sk-container-id-1 div.sk-estimator.fitted:hover {\n",
       "  /* fitted */\n",
       "  background-color: var(--sklearn-color-fitted-level-2);\n",
       "}\n",
       "\n",
       "/* Specification for estimator info (e.g. \"i\" and \"?\") */\n",
       "\n",
       "/* Common style for \"i\" and \"?\" */\n",
       "\n",
       ".sk-estimator-doc-link,\n",
       "a:link.sk-estimator-doc-link,\n",
       "a:visited.sk-estimator-doc-link {\n",
       "  float: right;\n",
       "  font-size: smaller;\n",
       "  line-height: 1em;\n",
       "  font-family: monospace;\n",
       "  background-color: var(--sklearn-color-background);\n",
       "  border-radius: 1em;\n",
       "  height: 1em;\n",
       "  width: 1em;\n",
       "  text-decoration: none !important;\n",
       "  margin-left: 0.5em;\n",
       "  text-align: center;\n",
       "  /* unfitted */\n",
       "  border: var(--sklearn-color-unfitted-level-1) 1pt solid;\n",
       "  color: var(--sklearn-color-unfitted-level-1);\n",
       "}\n",
       "\n",
       ".sk-estimator-doc-link.fitted,\n",
       "a:link.sk-estimator-doc-link.fitted,\n",
       "a:visited.sk-estimator-doc-link.fitted {\n",
       "  /* fitted */\n",
       "  border: var(--sklearn-color-fitted-level-1) 1pt solid;\n",
       "  color: var(--sklearn-color-fitted-level-1);\n",
       "}\n",
       "\n",
       "/* On hover */\n",
       "div.sk-estimator:hover .sk-estimator-doc-link:hover,\n",
       ".sk-estimator-doc-link:hover,\n",
       "div.sk-label-container:hover .sk-estimator-doc-link:hover,\n",
       ".sk-estimator-doc-link:hover {\n",
       "  /* unfitted */\n",
       "  background-color: var(--sklearn-color-unfitted-level-3);\n",
       "  color: var(--sklearn-color-background);\n",
       "  text-decoration: none;\n",
       "}\n",
       "\n",
       "div.sk-estimator.fitted:hover .sk-estimator-doc-link.fitted:hover,\n",
       ".sk-estimator-doc-link.fitted:hover,\n",
       "div.sk-label-container:hover .sk-estimator-doc-link.fitted:hover,\n",
       ".sk-estimator-doc-link.fitted:hover {\n",
       "  /* fitted */\n",
       "  background-color: var(--sklearn-color-fitted-level-3);\n",
       "  color: var(--sklearn-color-background);\n",
       "  text-decoration: none;\n",
       "}\n",
       "\n",
       "/* Span, style for the box shown on hovering the info icon */\n",
       ".sk-estimator-doc-link span {\n",
       "  display: none;\n",
       "  z-index: 9999;\n",
       "  position: relative;\n",
       "  font-weight: normal;\n",
       "  right: .2ex;\n",
       "  padding: .5ex;\n",
       "  margin: .5ex;\n",
       "  width: min-content;\n",
       "  min-width: 20ex;\n",
       "  max-width: 50ex;\n",
       "  color: var(--sklearn-color-text);\n",
       "  box-shadow: 2pt 2pt 4pt #999;\n",
       "  /* unfitted */\n",
       "  background: var(--sklearn-color-unfitted-level-0);\n",
       "  border: .5pt solid var(--sklearn-color-unfitted-level-3);\n",
       "}\n",
       "\n",
       ".sk-estimator-doc-link.fitted span {\n",
       "  /* fitted */\n",
       "  background: var(--sklearn-color-fitted-level-0);\n",
       "  border: var(--sklearn-color-fitted-level-3);\n",
       "}\n",
       "\n",
       ".sk-estimator-doc-link:hover span {\n",
       "  display: block;\n",
       "}\n",
       "\n",
       "/* \"?\"-specific style due to the `<a>` HTML tag */\n",
       "\n",
       "#sk-container-id-1 a.estimator_doc_link {\n",
       "  float: right;\n",
       "  font-size: 1rem;\n",
       "  line-height: 1em;\n",
       "  font-family: monospace;\n",
       "  background-color: var(--sklearn-color-background);\n",
       "  border-radius: 1rem;\n",
       "  height: 1rem;\n",
       "  width: 1rem;\n",
       "  text-decoration: none;\n",
       "  /* unfitted */\n",
       "  color: var(--sklearn-color-unfitted-level-1);\n",
       "  border: var(--sklearn-color-unfitted-level-1) 1pt solid;\n",
       "}\n",
       "\n",
       "#sk-container-id-1 a.estimator_doc_link.fitted {\n",
       "  /* fitted */\n",
       "  border: var(--sklearn-color-fitted-level-1) 1pt solid;\n",
       "  color: var(--sklearn-color-fitted-level-1);\n",
       "}\n",
       "\n",
       "/* On hover */\n",
       "#sk-container-id-1 a.estimator_doc_link:hover {\n",
       "  /* unfitted */\n",
       "  background-color: var(--sklearn-color-unfitted-level-3);\n",
       "  color: var(--sklearn-color-background);\n",
       "  text-decoration: none;\n",
       "}\n",
       "\n",
       "#sk-container-id-1 a.estimator_doc_link.fitted:hover {\n",
       "  /* fitted */\n",
       "  background-color: var(--sklearn-color-fitted-level-3);\n",
       "}\n",
       "</style><div id=\"sk-container-id-1\" class=\"sk-top-container\"><div class=\"sk-text-repr-fallback\"><pre>LogisticRegression()</pre><b>In a Jupyter environment, please rerun this cell to show the HTML representation or trust the notebook. <br />On GitHub, the HTML representation is unable to render, please try loading this page with nbviewer.org.</b></div><div class=\"sk-container\" hidden><div class=\"sk-item\"><div class=\"sk-estimator fitted sk-toggleable\"><input class=\"sk-toggleable__control sk-hidden--visually\" id=\"sk-estimator-id-1\" type=\"checkbox\" checked><label for=\"sk-estimator-id-1\" class=\"sk-toggleable__label fitted sk-toggleable__label-arrow\"><div><div>LogisticRegression</div></div><div><a class=\"sk-estimator-doc-link fitted\" rel=\"noreferrer\" target=\"_blank\" href=\"https://scikit-learn.org/1.6/modules/generated/sklearn.linear_model.LogisticRegression.html\">?<span>Documentation for LogisticRegression</span></a><span class=\"sk-estimator-doc-link fitted\">i<span>Fitted</span></span></div></label><div class=\"sk-toggleable__content fitted\"><pre>LogisticRegression()</pre></div> </div></div></div></div>"
      ],
      "text/plain": [
       "LogisticRegression()"
      ]
     },
     "execution_count": 26,
     "metadata": {},
     "output_type": "execute_result"
    }
   ],
   "source": [
    "model.fit(xtrainscale,ytrain)"
   ]
  },
  {
   "cell_type": "code",
   "execution_count": 27,
   "id": "74244e68-089c-4cce-b69f-a6b4fe4a8b5b",
   "metadata": {},
   "outputs": [
    {
     "data": {
      "text/plain": [
       "array([0, 0, 1, 1, 1, 1, 0, 1, 0, 1, 0, 1, 1, 1, 1, 0, 1, 1, 0, 1, 1, 0,\n",
       "       1, 1, 1, 1, 1, 1, 1, 1, 1, 1, 1, 1, 0, 1, 1, 1, 0, 1, 0, 1, 1, 1,\n",
       "       1, 1, 1, 0, 0, 1, 1, 1, 1, 1, 0, 0, 1, 0, 1, 1, 0, 1, 1, 1, 0, 1,\n",
       "       1, 1, 0, 1, 1, 1, 1, 1, 0, 0, 1, 1, 1, 1, 1, 1, 0, 1, 1, 0, 1, 1,\n",
       "       1, 1, 1, 0, 1, 0, 1, 1, 0, 1, 0, 0, 0, 1, 1, 1, 1, 1, 0, 1, 1, 1,\n",
       "       1, 1, 1, 1, 1, 1, 0, 1, 1, 1, 1, 1, 1, 1, 1, 0, 1, 0, 1, 1, 1, 0,\n",
       "       0, 1, 1, 1, 0, 0, 1, 1, 0, 1, 1, 1, 1, 1, 1, 1, 1, 0, 1, 1, 1, 1,\n",
       "       1, 1, 1, 1, 1, 0, 1, 1, 1, 1, 1, 1, 1, 1, 1, 0, 0, 1, 1, 1, 1, 1,\n",
       "       1, 1, 1, 1, 1, 1, 0, 1, 0, 1, 1, 0, 0, 1, 1, 1, 1, 0, 1, 1, 0, 1,\n",
       "       1, 1, 1, 1, 1, 0, 1, 1, 0, 1, 1, 1, 1, 0, 0, 1, 1, 0, 1, 1, 1, 1,\n",
       "       1, 1, 1, 0, 1, 1, 1, 1, 1, 0, 1, 1, 1, 1, 1, 1, 0, 1, 1, 0, 1, 1,\n",
       "       0, 1, 1, 0, 0, 1, 1, 1, 1, 1, 1, 1, 0, 0, 0, 1, 1, 1, 1, 0, 1, 1,\n",
       "       1, 1, 1, 1, 1, 1, 1, 0, 1, 0, 1, 1, 1, 0, 1, 0, 1, 1, 0, 1, 1, 1,\n",
       "       1, 0, 0, 0, 0, 1, 1, 1, 1, 1, 1, 1, 1, 1, 0, 1, 1, 1, 0, 0, 0, 1,\n",
       "       0, 1, 1, 1, 0, 1, 1, 1, 1, 1, 1, 0, 1, 1, 1, 1, 1, 1, 0, 1, 1, 1,\n",
       "       0, 1, 1, 1, 0, 1, 1, 1, 1, 1, 1, 1, 1, 0, 0, 0, 1, 1, 1, 1, 1, 0,\n",
       "       0, 1, 1, 1, 0, 1, 0, 1, 0])"
      ]
     },
     "execution_count": 27,
     "metadata": {},
     "output_type": "execute_result"
    }
   ],
   "source": [
    "ypred = model.predict(xtest)\n",
    "ypred"
   ]
  },
  {
   "cell_type": "code",
   "execution_count": 28,
   "id": "c4edc598-d442-444e-bb16-9d54c2e3fbe6",
   "metadata": {},
   "outputs": [
    {
     "data": {
      "text/plain": [
       "array([[9.99999636e-01, 3.63549150e-07],\n",
       "       [9.99999998e-01, 2.48888911e-09],\n",
       "       [7.91336696e-02, 9.20866330e-01],\n",
       "       [9.99968384e-01, 3.16156887e-05],\n",
       "       [9.99667300e-01, 3.32699619e-04],\n",
       "       [5.90543798e-01, 4.09456202e-01],\n",
       "       [9.99998605e-01, 1.39492099e-06],\n",
       "       [2.08542270e-05, 9.99979146e-01],\n",
       "       [9.99999994e-01, 6.18451038e-09],\n",
       "       [7.06199377e-03, 9.92938006e-01],\n",
       "       [9.99999933e-01, 6.70314453e-08],\n",
       "       [6.58725258e-04, 9.99341275e-01],\n",
       "       [1.46079512e-01, 8.53920488e-01],\n",
       "       [9.99149543e-01, 8.50456947e-04],\n",
       "       [9.99809471e-01, 1.90529138e-04],\n",
       "       [9.99999978e-01, 2.18207220e-08],\n",
       "       [7.77959716e-01, 2.22040284e-01],\n",
       "       [2.70348077e-02, 9.72965192e-01],\n",
       "       [1.00000000e+00, 1.47172837e-10],\n",
       "       [1.08466619e-05, 9.99989153e-01],\n",
       "       [1.24498151e-01, 8.75501849e-01],\n",
       "       [9.99999078e-01, 9.22058998e-07],\n",
       "       [9.49778245e-01, 5.02217554e-02],\n",
       "       [3.38078061e-04, 9.99661922e-01],\n",
       "       [2.55634720e-06, 9.99997444e-01],\n",
       "       [9.98782660e-01, 1.21733958e-03],\n",
       "       [4.00613085e-06, 9.99995994e-01],\n",
       "       [2.01941047e-03, 9.97980590e-01],\n",
       "       [9.99912971e-01, 8.70293726e-05],\n",
       "       [2.83160013e-05, 9.99971684e-01],\n",
       "       [3.65011748e-04, 9.99634988e-01],\n",
       "       [9.69896875e-01, 3.01031246e-02],\n",
       "       [8.85458924e-03, 9.91145411e-01],\n",
       "       [4.45958159e-10, 1.00000000e+00],\n",
       "       [9.99962346e-01, 3.76536971e-05],\n",
       "       [2.48379509e-02, 9.75162049e-01],\n",
       "       [9.88642868e-01, 1.13571325e-02],\n",
       "       [1.06141229e-05, 9.99989386e-01],\n",
       "       [1.00000000e+00, 3.42730380e-17],\n",
       "       [6.15081725e-04, 9.99384918e-01],\n",
       "       [9.99999998e-01, 1.53321135e-09],\n",
       "       [9.13403732e-01, 8.65962676e-02],\n",
       "       [9.74532052e-01, 2.54679482e-02],\n",
       "       [4.69497796e-06, 9.99995305e-01],\n",
       "       [9.82655829e-01, 1.73441707e-02],\n",
       "       [9.95406618e-01, 4.59338203e-03],\n",
       "       [3.82148730e-07, 9.99999618e-01],\n",
       "       [9.99953671e-01, 4.63294286e-05],\n",
       "       [1.00000000e+00, 8.51102614e-11],\n",
       "       [9.99943381e-01, 5.66185079e-05],\n",
       "       [7.16983562e-03, 9.92830164e-01],\n",
       "       [6.49066935e-01, 3.50933065e-01],\n",
       "       [7.76336331e-05, 9.99922366e-01],\n",
       "       [1.27183246e-02, 9.87281675e-01],\n",
       "       [9.99996223e-01, 3.77653543e-06],\n",
       "       [9.99955952e-01, 4.40482114e-05],\n",
       "       [8.73550408e-01, 1.26449592e-01],\n",
       "       [9.99995033e-01, 4.96666106e-06],\n",
       "       [9.99962234e-01, 3.77656972e-05],\n",
       "       [2.41707686e-03, 9.97582923e-01],\n",
       "       [9.99995746e-01, 4.25425712e-06],\n",
       "       [9.30632145e-08, 9.99999907e-01],\n",
       "       [9.64982741e-01, 3.50172589e-02],\n",
       "       [5.09624677e-08, 9.99999949e-01],\n",
       "       [9.99807717e-01, 1.92282679e-04],\n",
       "       [9.94311453e-01, 5.68854706e-03],\n",
       "       [9.75596919e-01, 2.44030811e-02],\n",
       "       [1.49300231e-02, 9.85069977e-01],\n",
       "       [1.00000000e+00, 3.60996958e-10],\n",
       "       [3.10392416e-06, 9.99996896e-01],\n",
       "       [9.99429318e-01, 5.70681868e-04],\n",
       "       [5.36437241e-03, 9.94635628e-01],\n",
       "       [9.99870758e-01, 1.29242285e-04],\n",
       "       [6.72696628e-01, 3.27303372e-01],\n",
       "       [9.99990172e-01, 9.82753138e-06],\n",
       "       [1.00000000e+00, 4.37046289e-10],\n",
       "       [4.93424858e-01, 5.06575142e-01],\n",
       "       [9.64525121e-01, 3.54748793e-02],\n",
       "       [1.21439383e-02, 9.87856062e-01],\n",
       "       [4.10907168e-04, 9.99589093e-01],\n",
       "       [1.68239550e-08, 9.99999983e-01],\n",
       "       [2.60723340e-06, 9.99997393e-01],\n",
       "       [9.99995052e-01, 4.94824443e-06],\n",
       "       [1.19715783e-05, 9.99988028e-01],\n",
       "       [9.99874403e-01, 1.25596955e-04],\n",
       "       [9.99810981e-01, 1.89018584e-04],\n",
       "       [5.71883973e-02, 9.42811603e-01],\n",
       "       [9.87131856e-01, 1.28681436e-02],\n",
       "       [9.98104652e-01, 1.89534805e-03],\n",
       "       [9.99962802e-01, 3.71979386e-05],\n",
       "       [2.83955888e-03, 9.97160441e-01],\n",
       "       [9.99999971e-01, 2.89231317e-08],\n",
       "       [7.58816440e-02, 9.24118356e-01],\n",
       "       [9.99993432e-01, 6.56785476e-06],\n",
       "       [3.95899803e-07, 9.99999604e-01],\n",
       "       [1.21031616e-06, 9.99998790e-01],\n",
       "       [9.99986987e-01, 1.30130749e-05],\n",
       "       [9.41967664e-03, 9.90580323e-01],\n",
       "       [9.99999986e-01, 1.39180556e-08],\n",
       "       [9.99998289e-01, 1.71066906e-06],\n",
       "       [9.99994367e-01, 5.63347968e-06],\n",
       "       [9.40552045e-01, 5.94479549e-02],\n",
       "       [6.51226784e-04, 9.99348773e-01],\n",
       "       [7.29257509e-04, 9.99270742e-01],\n",
       "       [9.83523279e-01, 1.64767210e-02],\n",
       "       [9.99784542e-01, 2.15457532e-04],\n",
       "       [9.99994991e-01, 5.00892218e-06],\n",
       "       [3.20898397e-09, 9.99999997e-01],\n",
       "       [8.62098374e-01, 1.37901626e-01],\n",
       "       [4.74439621e-09, 9.99999995e-01],\n",
       "       [9.99949045e-01, 5.09546858e-05],\n",
       "       [2.70899747e-10, 1.00000000e+00],\n",
       "       [9.98555787e-01, 1.44421349e-03],\n",
       "       [9.97823928e-01, 2.17607157e-03],\n",
       "       [7.19960186e-01, 2.80039814e-01],\n",
       "       [1.13402716e-01, 8.86597284e-01],\n",
       "       [9.99998883e-01, 1.11730796e-06],\n",
       "       [5.63484719e-02, 9.43651528e-01],\n",
       "       [4.69495598e-09, 9.99999995e-01],\n",
       "       [9.99933214e-01, 6.67863826e-05],\n",
       "       [6.95906585e-01, 3.04093415e-01],\n",
       "       [8.06452975e-01, 1.93547025e-01],\n",
       "       [5.60314362e-01, 4.39685638e-01],\n",
       "       [1.42621490e-05, 9.99985738e-01],\n",
       "       [7.89386106e-01, 2.10613894e-01],\n",
       "       [9.99999798e-01, 2.02494645e-07],\n",
       "       [3.25603622e-07, 9.99999674e-01],\n",
       "       [9.99999447e-01, 5.52922849e-07],\n",
       "       [9.22721827e-05, 9.99907728e-01],\n",
       "       [1.92592558e-06, 9.99998074e-01],\n",
       "       [7.86190690e-07, 9.99999214e-01],\n",
       "       [9.99999823e-01, 1.77127847e-07],\n",
       "       [9.99990347e-01, 9.65254735e-06],\n",
       "       [9.84574014e-01, 1.54259863e-02],\n",
       "       [5.92108806e-09, 9.99999994e-01],\n",
       "       [1.91118460e-04, 9.99808882e-01],\n",
       "       [9.99999960e-01, 3.96923098e-08],\n",
       "       [1.00000000e+00, 1.68472070e-15],\n",
       "       [9.75239616e-01, 2.47603838e-02],\n",
       "       [9.40121141e-05, 9.99905988e-01],\n",
       "       [9.99991686e-01, 8.31433451e-06],\n",
       "       [1.25588946e-06, 9.99998744e-01],\n",
       "       [1.03740703e-01, 8.96259297e-01],\n",
       "       [1.51513267e-02, 9.84848673e-01],\n",
       "       [8.91107872e-01, 1.08892128e-01],\n",
       "       [5.14706513e-07, 9.99999485e-01],\n",
       "       [1.00483054e-05, 9.99989952e-01],\n",
       "       [1.42302096e-01, 8.57697904e-01],\n",
       "       [2.33719710e-04, 9.99766280e-01],\n",
       "       [9.99999196e-01, 8.03906732e-07],\n",
       "       [8.57833804e-10, 9.99999999e-01],\n",
       "       [9.82109520e-01, 1.78904800e-02],\n",
       "       [2.89749380e-09, 9.99999997e-01],\n",
       "       [1.02912605e-04, 9.99897087e-01],\n",
       "       [3.91503566e-01, 6.08496434e-01],\n",
       "       [3.13157786e-04, 9.99686842e-01],\n",
       "       [9.09080303e-04, 9.99090920e-01],\n",
       "       [2.50574956e-02, 9.74942504e-01],\n",
       "       [4.91007235e-12, 1.00000000e+00],\n",
       "       [9.99973535e-01, 2.64645902e-05],\n",
       "       [9.99901616e-01, 9.83836494e-05],\n",
       "       [2.10420941e-03, 9.97895791e-01],\n",
       "       [1.76540559e-07, 9.99999823e-01],\n",
       "       [4.63703246e-08, 9.99999954e-01],\n",
       "       [5.46037369e-07, 9.99999454e-01],\n",
       "       [5.99499129e-02, 9.40050087e-01],\n",
       "       [9.97899692e-01, 2.10030819e-03],\n",
       "       [9.84462035e-01, 1.55379647e-02],\n",
       "       [9.99670860e-01, 3.29140085e-04],\n",
       "       [9.99999988e-01, 1.17124217e-08],\n",
       "       [1.00000000e+00, 6.59738497e-11],\n",
       "       [2.99982261e-12, 1.00000000e+00],\n",
       "       [8.66101439e-01, 1.33898561e-01],\n",
       "       [5.17776890e-01, 4.82223110e-01],\n",
       "       [9.90708921e-01, 9.29107879e-03],\n",
       "       [9.99143626e-01, 8.56374139e-04],\n",
       "       [2.84382945e-08, 9.99999972e-01],\n",
       "       [5.21127513e-03, 9.94788725e-01],\n",
       "       [2.53756216e-09, 9.99999997e-01],\n",
       "       [7.65322398e-06, 9.99992347e-01],\n",
       "       [6.81989205e-07, 9.99999318e-01],\n",
       "       [9.70784032e-01, 2.92159685e-02],\n",
       "       [1.00000000e+00, 2.93117676e-11],\n",
       "       [2.16215391e-01, 7.83784609e-01],\n",
       "       [1.00000000e+00, 4.59053820e-10],\n",
       "       [9.99654744e-01, 3.45255720e-04],\n",
       "       [6.63320286e-01, 3.36679714e-01],\n",
       "       [1.00000000e+00, 8.34313733e-11],\n",
       "       [1.00000000e+00, 1.72693460e-14],\n",
       "       [9.98783831e-01, 1.21616911e-03],\n",
       "       [9.16850305e-01, 8.31496946e-02],\n",
       "       [2.34428033e-03, 9.97655720e-01],\n",
       "       [1.99530524e-01, 8.00469476e-01],\n",
       "       [1.00000000e+00, 4.39195208e-12],\n",
       "       [1.43259387e-03, 9.98567406e-01],\n",
       "       [1.12533640e-03, 9.98874664e-01],\n",
       "       [9.99999717e-01, 2.83321014e-07],\n",
       "       [3.31739198e-07, 9.99999668e-01],\n",
       "       [3.02768855e-06, 9.99996972e-01],\n",
       "       [4.27167457e-03, 9.95728325e-01],\n",
       "       [1.57989450e-03, 9.98420106e-01],\n",
       "       [9.99856589e-01, 1.43411276e-04],\n",
       "       [2.75432843e-02, 9.72456716e-01],\n",
       "       [9.99999837e-01, 1.63201669e-07],\n",
       "       [1.91630963e-03, 9.98083690e-01],\n",
       "       [1.60904216e-02, 9.83909578e-01],\n",
       "       [1.00000000e+00, 2.43243762e-11],\n",
       "       [1.19136745e-09, 9.99999999e-01],\n",
       "       [3.81658325e-01, 6.18341675e-01],\n",
       "       [9.94579733e-01, 5.42026675e-03],\n",
       "       [2.89934344e-01, 7.10065656e-01],\n",
       "       [1.00000000e+00, 1.94037325e-13],\n",
       "       [1.00000000e+00, 8.39687102e-14],\n",
       "       [2.46022669e-09, 9.99999998e-01],\n",
       "       [1.74251343e-02, 9.82574866e-01],\n",
       "       [9.99999993e-01, 7.17354690e-09],\n",
       "       [8.87442941e-01, 1.12557059e-01],\n",
       "       [7.75712660e-01, 2.24287340e-01],\n",
       "       [1.23553269e-03, 9.98764467e-01],\n",
       "       [2.10675614e-02, 9.78932439e-01],\n",
       "       [1.43103930e-03, 9.98568961e-01],\n",
       "       [9.53817631e-01, 4.61823687e-02],\n",
       "       [4.90882605e-05, 9.99950912e-01],\n",
       "       [9.99981015e-01, 1.89846349e-05],\n",
       "       [5.46071798e-02, 9.45392820e-01],\n",
       "       [6.52490853e-04, 9.99347509e-01],\n",
       "       [5.27163838e-01, 4.72836162e-01],\n",
       "       [5.34364120e-08, 9.99999947e-01],\n",
       "       [1.36478492e-03, 9.98635215e-01],\n",
       "       [1.00000000e+00, 6.78251230e-14],\n",
       "       [1.87952623e-08, 9.99999981e-01],\n",
       "       [1.01898984e-07, 9.99999898e-01],\n",
       "       [9.96546234e-01, 3.45376643e-03],\n",
       "       [8.96176377e-04, 9.99103824e-01],\n",
       "       [9.90420105e-01, 9.57989474e-03],\n",
       "       [3.00658875e-03, 9.96993411e-01],\n",
       "       [9.99507311e-01, 4.92688819e-04],\n",
       "       [1.32563063e-03, 9.98674369e-01],\n",
       "       [9.99416649e-01, 5.83351347e-04],\n",
       "       [9.99986636e-01, 1.33644214e-05],\n",
       "       [3.81707437e-02, 9.61829256e-01],\n",
       "       [4.05780982e-06, 9.99995942e-01],\n",
       "       [9.99963415e-01, 3.65848517e-05],\n",
       "       [2.90196765e-01, 7.09803235e-01],\n",
       "       [2.95966678e-02, 9.70403332e-01],\n",
       "       [9.99991405e-01, 8.59542784e-06],\n",
       "       [9.99999999e-01, 6.10835892e-10],\n",
       "       [5.61823468e-01, 4.38176532e-01],\n",
       "       [4.12357648e-01, 5.87642352e-01],\n",
       "       [4.99746816e-01, 5.00253184e-01],\n",
       "       [2.02265956e-03, 9.97977340e-01],\n",
       "       [2.57021965e-02, 9.74297803e-01],\n",
       "       [2.92097265e-02, 9.70790274e-01],\n",
       "       [8.00055611e-09, 9.99999992e-01],\n",
       "       [9.99999811e-01, 1.88531472e-07],\n",
       "       [9.99999749e-01, 2.50590160e-07],\n",
       "       [1.00000000e+00, 2.32418681e-10],\n",
       "       [1.90065152e-04, 9.99809935e-01],\n",
       "       [9.98284153e-01, 1.71584692e-03],\n",
       "       [3.11255552e-04, 9.99688744e-01],\n",
       "       [9.93229097e-01, 6.77090288e-03],\n",
       "       [9.99993082e-01, 6.91822874e-06],\n",
       "       [9.40474709e-01, 5.95252911e-02],\n",
       "       [4.94483339e-08, 9.99999951e-01],\n",
       "       [1.04680820e-07, 9.99999895e-01],\n",
       "       [9.99045342e-01, 9.54658146e-04],\n",
       "       [9.98187801e-01, 1.81219893e-03],\n",
       "       [3.14672444e-03, 9.96853276e-01],\n",
       "       [1.76256169e-02, 9.82374383e-01],\n",
       "       [7.46891436e-07, 9.99999253e-01],\n",
       "       [8.31185078e-03, 9.91688149e-01],\n",
       "       [9.99999474e-01, 5.26023113e-07],\n",
       "       [1.08508558e-04, 9.99891491e-01],\n",
       "       [9.99851241e-01, 1.48758818e-04],\n",
       "       [3.06859546e-05, 9.99969314e-01],\n",
       "       [1.91850758e-10, 1.00000000e+00],\n",
       "       [8.58140159e-08, 9.99999914e-01],\n",
       "       [9.99940926e-01, 5.90743763e-05],\n",
       "       [1.20092952e-01, 8.79907048e-01],\n",
       "       [9.99998901e-01, 1.09930739e-06],\n",
       "       [2.71243537e-01, 7.28756463e-01],\n",
       "       [6.23222675e-04, 9.99376777e-01],\n",
       "       [9.99997690e-01, 2.30974495e-06],\n",
       "       [1.06523691e-04, 9.99893476e-01],\n",
       "       [2.18590257e-10, 1.00000000e+00],\n",
       "       [1.22675131e-05, 9.99987732e-01],\n",
       "       [9.91706692e-01, 8.29330826e-03],\n",
       "       [9.99999937e-01, 6.26006719e-08],\n",
       "       [9.99938473e-01, 6.15274561e-05],\n",
       "       [9.99994246e-01, 5.75356482e-06],\n",
       "       [9.99999267e-01, 7.32786653e-07],\n",
       "       [9.99951576e-01, 4.84242800e-05],\n",
       "       [4.82893506e-03, 9.95171065e-01],\n",
       "       [9.07014176e-02, 9.09298582e-01],\n",
       "       [9.37163358e-01, 6.28366423e-02],\n",
       "       [2.22358021e-09, 9.99999998e-01],\n",
       "       [4.82922791e-07, 9.99999517e-01],\n",
       "       [8.23122480e-01, 1.76877520e-01],\n",
       "       [4.08329194e-05, 9.99959167e-01],\n",
       "       [1.35374952e-05, 9.99986463e-01],\n",
       "       [1.00000000e+00, 6.71139672e-15],\n",
       "       [4.63662886e-10, 1.00000000e+00],\n",
       "       [9.96772919e-01, 3.22708103e-03],\n",
       "       [9.97834936e-01, 2.16506420e-03],\n",
       "       [9.99999994e-01, 5.57550584e-09],\n",
       "       [9.99999996e-01, 3.66551005e-09],\n",
       "       [9.99999954e-01, 4.60390863e-08],\n",
       "       [3.92717415e-05, 9.99960728e-01],\n",
       "       [9.99532498e-01, 4.67502320e-04],\n",
       "       [9.78380100e-01, 2.16199005e-02],\n",
       "       [9.65426195e-06, 9.99990346e-01],\n",
       "       [9.99746354e-01, 2.53646314e-04],\n",
       "       [9.99994928e-01, 5.07245339e-06],\n",
       "       [5.00219725e-03, 9.94997803e-01],\n",
       "       [3.00639304e-03, 9.96993607e-01],\n",
       "       [4.61787711e-07, 9.99999538e-01],\n",
       "       [3.84048184e-05, 9.99961595e-01],\n",
       "       [2.31769998e-05, 9.99976823e-01],\n",
       "       [9.90428905e-01, 9.57109484e-03],\n",
       "       [9.99997498e-01, 2.50199316e-06],\n",
       "       [9.99534558e-01, 4.65442229e-04],\n",
       "       [1.69086787e-04, 9.99830913e-01],\n",
       "       [8.60124093e-03, 9.91398759e-01],\n",
       "       [6.71971367e-11, 1.00000000e+00],\n",
       "       [4.46537097e-05, 9.99955346e-01],\n",
       "       [9.87910087e-05, 9.99901209e-01],\n",
       "       [9.99999988e-01, 1.23790149e-08],\n",
       "       [9.99041835e-01, 9.58165145e-04],\n",
       "       [9.60546173e-04, 9.99039454e-01],\n",
       "       [6.13433436e-01, 3.86566564e-01],\n",
       "       [1.00000000e+00, 2.52756109e-15],\n",
       "       [9.47567065e-01, 5.24329347e-02],\n",
       "       [9.84273043e-01, 1.57269570e-02],\n",
       "       [5.00739556e-05, 9.99949926e-01],\n",
       "       [9.99999861e-01, 1.38547239e-07],\n",
       "       [2.35637757e-06, 9.99997644e-01],\n",
       "       [7.15363985e-01, 2.84636015e-01],\n",
       "       [3.94195343e-10, 1.00000000e+00],\n",
       "       [1.59980339e-03, 9.98400197e-01],\n",
       "       [8.28771797e-01, 1.71228203e-01],\n",
       "       [1.19859012e-09, 9.99999999e-01],\n",
       "       [4.69694119e-08, 9.99999953e-01],\n",
       "       [2.66279780e-07, 9.99999734e-01],\n",
       "       [9.99999943e-01, 5.74337721e-08],\n",
       "       [9.99988725e-01, 1.12750476e-05],\n",
       "       [9.99997941e-01, 2.05926511e-06],\n",
       "       [6.76425805e-02, 9.32357419e-01],\n",
       "       [2.04659341e-05, 9.99979534e-01],\n",
       "       [2.77877565e-09, 9.99999997e-01],\n",
       "       [5.48697666e-03, 9.94513023e-01],\n",
       "       [1.21160131e-06, 9.99998788e-01],\n",
       "       [9.99866012e-01, 1.33987536e-04],\n",
       "       [1.00000000e+00, 1.46897803e-11],\n",
       "       [2.17586849e-07, 9.99999782e-01],\n",
       "       [7.04056838e-02, 9.29594316e-01],\n",
       "       [1.54120982e-02, 9.84587902e-01],\n",
       "       [9.99999998e-01, 2.20044282e-09],\n",
       "       [9.98598618e-01, 1.40138188e-03],\n",
       "       [1.00000000e+00, 3.27918618e-10],\n",
       "       [9.99959514e-01, 4.04864643e-05],\n",
       "       [9.99474141e-01, 5.25859357e-04]])"
      ]
     },
     "execution_count": 28,
     "metadata": {},
     "output_type": "execute_result"
    }
   ],
   "source": [
    "model.predict_proba(xtestscale)"
   ]
  },
  {
   "cell_type": "code",
   "execution_count": 29,
   "id": "cfa0b96a-42d8-46ea-a0ed-e87e3dbf8085",
   "metadata": {},
   "outputs": [
    {
     "name": "stdout",
     "output_type": "stream",
     "text": [
      "Model Accuracy: 0.7618\n"
     ]
    }
   ],
   "source": [
    "from sklearn.metrics import accuracy_score\n",
    "\n",
    "model_accuracy = accuracy_score(ytest, ypred)\n",
    "\n",
    "print(f\"Model Accuracy: {model_accuracy:.4f}\") "
   ]
  },
  {
   "cell_type": "code",
   "execution_count": 30,
   "id": "19b5d062-5aab-442a-8799-35489ee8bda5",
   "metadata": {},
   "outputs": [
    {
     "name": "stdout",
     "output_type": "stream",
     "text": [
      "[[ 89  84]\n",
      " [  2 186]]\n"
     ]
    }
   ],
   "source": [
    "from sklearn.metrics import confusion_matrix\n",
    "print(confusion_matrix(ytest, ypred))"
   ]
  },
  {
   "cell_type": "code",
   "execution_count": 31,
   "id": "6023fdbc-53c9-4cd5-9d83-37acfd61bb3c",
   "metadata": {},
   "outputs": [],
   "source": [
    "from sklearn.metrics import classification_report\n",
    "from sklearn.metrics import precision_score, recall_score, f1_score"
   ]
  },
  {
   "cell_type": "code",
   "execution_count": 32,
   "id": "20c68c12-dc7e-4b91-9217-3b929782b69a",
   "metadata": {},
   "outputs": [
    {
     "name": "stdout",
     "output_type": "stream",
     "text": [
      "              precision    recall  f1-score   support\n",
      "\n",
      "           0       0.98      0.51      0.67       173\n",
      "           1       0.69      0.99      0.81       188\n",
      "\n",
      "    accuracy                           0.76       361\n",
      "   macro avg       0.83      0.75      0.74       361\n",
      "weighted avg       0.83      0.76      0.75       361\n",
      "\n"
     ]
    }
   ],
   "source": [
    "from sklearn.metrics import classification_report\n",
    "print(classification_report(ytest, ypred))"
   ]
  },
  {
   "cell_type": "code",
   "execution_count": 33,
   "id": "a6798163-75c7-4b80-b256-c480c8191294",
   "metadata": {},
   "outputs": [],
   "source": [
    "img11 = Image.open(r\"C:\\Users\\acer\\Pictures\\Adam_Rich_0001.jpg\")"
   ]
  },
  {
   "cell_type": "code",
   "execution_count": 34,
   "id": "f840ae91-7d92-4da9-b2b6-a8811762378d",
   "metadata": {},
   "outputs": [
    {
     "data": {
      "image/jpeg": "[encoded data removed]",
      "image/png": "[encoded data removed]",
      "text/plain": [
       "<PIL.Image.Image image mode=RGB size=64x64>"
      ]
     },
     "execution_count": 34,
     "metadata": {},
     "output_type": "execute_result"
    }
   ],
   "source": [
    "img11 = img11.resize((64,64))\n",
    "img11"
   ]
  },
  {
   "cell_type": "code",
   "execution_count": 35,
   "id": "bdf75b2e-9af1-40fe-bed4-b88e08a3eca5",
   "metadata": {},
   "outputs": [],
   "source": [
    "\n",
    "img11 = img11.convert(\"L\")"
   ]
  },
  {
   "cell_type": "code",
   "execution_count": 36,
   "id": "ff551359-f488-4057-9e8e-2b11e17d54dc",
   "metadata": {},
   "outputs": [
    {
     "data": {
      "image/jpeg": "[encoded data removed]",
      "image/png": "[encoded data removed]",
      "text/plain": [
       "<PIL.Image.Image image mode=L size=64x64>"
      ]
     },
     "execution_count": 36,
     "metadata": {},
     "output_type": "execute_result"
    }
   ],
   "source": [
    "img11"
   ]
  },
  {
   "cell_type": "code",
   "execution_count": 37,
   "id": "6e456888-dd5c-4164-be69-b41977e21bd3",
   "metadata": {},
   "outputs": [],
   "source": [
    "img11 = np.array(img11)\n",
    "scaleimg = img11.flatten().reshape(1, -1) \n",
    "scaleimg = scaler.transform(scaleimg)  \n"
   ]
  },
  {
   "cell_type": "code",
   "execution_count": 38,
   "id": "64d975dd-0511-42a8-9eb3-2b6e552b5bb9",
   "metadata": {},
   "outputs": [
    {
     "data": {
      "text/plain": [
       "array([0])"
      ]
     },
     "execution_count": 38,
     "metadata": {},
     "output_type": "execute_result"
    }
   ],
   "source": [
    "prediction = model.predict(scaleimg)\n",
    "prediction "
   ]
  },
  {
   "cell_type": "code",
   "execution_count": 39,
   "id": "aefcc276-d633-4fd6-8c85-4a468772159b",
   "metadata": {},
   "outputs": [
    {
     "name": "stdout",
     "output_type": "stream",
     "text": [
      "Training Accuracy: 1.0000\n",
      "Test Accuracy: 0.8809\n"
     ]
    }
   ],
   "source": [
    "print(f\"Training Accuracy: {model.score(xtrainscale, ytrain):.4f}\")\n",
    "print(f\"Test Accuracy: {model.score(xtestscale, ytest):.4f}\")"
   ]
  },
  {
   "cell_type": "code",
   "execution_count": 40,
   "id": "f4821a6a-a2dd-4dcf-afe9-3b96601bf406",
   "metadata": {},
   "outputs": [],
   "source": [
    "import pickle"
   ]
  },
  {
   "cell_type": "code",
   "execution_count": 41,
   "id": "06adff43-16a3-458e-a340-f18b9c5a2d65",
   "metadata": {},
   "outputs": [],
   "source": [
    "pickle.dump(model,open(\"model.pkl\",\"wb\"))"
   ]
  },
  {
   "cell_type": "code",
   "execution_count": 42,
   "id": "a5a8d3bf-c015-4371-8cad-938601d692ce",
   "metadata": {},
   "outputs": [],
   "source": [
    "pickle.dump(scaler,open(\"scaler.pkl\",\"wb\"))\n"
   ]
  },
  {
   "cell_type": "code",
   "execution_count": null,
   "id": "fae8931d-6548-4d9c-9fde-c5fd0ffcc0fc",
   "metadata": {},
   "outputs": [],
   "source": []
  },
  {
   "cell_type": "code",
   "execution_count": null,
   "id": "32099683-01d0-483d-b1ce-c23733ec9a35",
   "metadata": {},
   "outputs": [],
   "source": []
  }
 ],
 "metadata": {
  "kernelspec": {
   "display_name": "base",
   "language": "python",
   "name": "python3"
  },
  "language_info": {
   "codemirror_mode": {
    "name": "ipython",
    "version": 3
   },
   "file_extension": ".py",
   "mimetype": "text/x-python",
   "name": "python",
   "nbconvert_exporter": "python",
   "pygments_lexer": "ipython3",
   "version": "3.12.7"
  }
 },
 "nbformat": 4,
 "nbformat_minor": 5
}
